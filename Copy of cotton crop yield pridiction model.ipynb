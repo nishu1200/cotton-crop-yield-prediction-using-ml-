{
 "cells": [
  {
   "cell_type": "markdown",
   "metadata": {
    "id": "Ihnhttr_fE2z"
   },
   "source": [
    "importing library"
   ]
  },
  {
   "cell_type": "code",
   "execution_count": 8,
   "metadata": {
    "executionInfo": {
     "elapsed": 603,
     "status": "ok",
     "timestamp": 1733666810083,
     "user": {
      "displayName": "Aakriti Hardel",
      "userId": "14054904044420853988"
     },
     "user_tz": -330
    },
    "id": "XGLGH2L5RjKH"
   },
   "outputs": [],
   "source": [
    "import pandas as pd\n",
    "import numpy as np\n",
    "import matplotlib.pyplot as plt\n",
    "import seaborn as sns"
   ]
  },
  {
   "cell_type": "code",
   "execution_count": 9,
   "metadata": {
    "colab": {
     "base_uri": "https://localhost:8080/",
     "height": 571
    },
    "executionInfo": {
     "elapsed": 1188,
     "status": "ok",
     "timestamp": 1733666811888,
     "user": {
      "displayName": "Aakriti Hardel",
      "userId": "14054904044420853988"
     },
     "user_tz": -330
    },
    "id": "nbS5xJq7RlZD",
    "outputId": "b61bef78-beb0-44e1-83f4-b6527d406926",
    "scrolled": true
   },
   "outputs": [
    {
     "data": {
      "text/html": [
       "<div>\n",
       "<style scoped>\n",
       "    .dataframe tbody tr th:only-of-type {\n",
       "        vertical-align: middle;\n",
       "    }\n",
       "\n",
       "    .dataframe tbody tr th {\n",
       "        vertical-align: top;\n",
       "    }\n",
       "\n",
       "    .dataframe thead th {\n",
       "        text-align: right;\n",
       "    }\n",
       "</style>\n",
       "<table border=\"1\" class=\"dataframe\">\n",
       "  <thead>\n",
       "    <tr style=\"text-align: right;\">\n",
       "      <th></th>\n",
       "      <th>State_Name</th>\n",
       "      <th>District_Name</th>\n",
       "      <th>Crop_Year</th>\n",
       "      <th>Season</th>\n",
       "      <th>Crop</th>\n",
       "      <th>Area</th>\n",
       "      <th>Production</th>\n",
       "      <th>temperature</th>\n",
       "      <th>humidity</th>\n",
       "      <th>wind_speed</th>\n",
       "      <th>Rainfall</th>\n",
       "      <th>soil_type</th>\n",
       "    </tr>\n",
       "  </thead>\n",
       "  <tbody>\n",
       "    <tr>\n",
       "      <th>0</th>\n",
       "      <td>Andhra Pradesh</td>\n",
       "      <td>ANANTAPUR</td>\n",
       "      <td>1997</td>\n",
       "      <td>Kharif</td>\n",
       "      <td>Cotton(lint)</td>\n",
       "      <td>7300</td>\n",
       "      <td>9400</td>\n",
       "      <td>26.93</td>\n",
       "      <td>59.81</td>\n",
       "      <td>4.61</td>\n",
       "      <td>520.0</td>\n",
       "      <td>mixed red and black</td>\n",
       "    </tr>\n",
       "    <tr>\n",
       "      <th>1</th>\n",
       "      <td>Andhra Pradesh</td>\n",
       "      <td>ANANTAPUR</td>\n",
       "      <td>1998</td>\n",
       "      <td>Kharif</td>\n",
       "      <td>Cotton(lint)</td>\n",
       "      <td>14000</td>\n",
       "      <td>12900</td>\n",
       "      <td>27.08</td>\n",
       "      <td>62.00</td>\n",
       "      <td>4.22</td>\n",
       "      <td>520.0</td>\n",
       "      <td>mixed red and black</td>\n",
       "    </tr>\n",
       "    <tr>\n",
       "      <th>2</th>\n",
       "      <td>Andhra Pradesh</td>\n",
       "      <td>ANANTAPUR</td>\n",
       "      <td>1999</td>\n",
       "      <td>Kharif</td>\n",
       "      <td>Cotton(lint)</td>\n",
       "      <td>9453</td>\n",
       "      <td>10510</td>\n",
       "      <td>26.24</td>\n",
       "      <td>60.44</td>\n",
       "      <td>4.72</td>\n",
       "      <td>520.0</td>\n",
       "      <td>mixed red and black</td>\n",
       "    </tr>\n",
       "    <tr>\n",
       "      <th>3</th>\n",
       "      <td>Andhra Pradesh</td>\n",
       "      <td>ANANTAPUR</td>\n",
       "      <td>2000</td>\n",
       "      <td>Kharif</td>\n",
       "      <td>Cotton(lint)</td>\n",
       "      <td>12025</td>\n",
       "      <td>16128</td>\n",
       "      <td>26.53</td>\n",
       "      <td>59.56</td>\n",
       "      <td>4.58</td>\n",
       "      <td>520.0</td>\n",
       "      <td>mixed red and black</td>\n",
       "    </tr>\n",
       "    <tr>\n",
       "      <th>4</th>\n",
       "      <td>Andhra Pradesh</td>\n",
       "      <td>ANANTAPUR</td>\n",
       "      <td>2001</td>\n",
       "      <td>Kharif</td>\n",
       "      <td>Cotton(lint)</td>\n",
       "      <td>8552</td>\n",
       "      <td>9055</td>\n",
       "      <td>26.60</td>\n",
       "      <td>60.12</td>\n",
       "      <td>4.67</td>\n",
       "      <td>520.0</td>\n",
       "      <td>mixed red and black</td>\n",
       "    </tr>\n",
       "    <tr>\n",
       "      <th>5</th>\n",
       "      <td>Andhra Pradesh</td>\n",
       "      <td>ANANTAPUR</td>\n",
       "      <td>2002</td>\n",
       "      <td>Kharif</td>\n",
       "      <td>Cotton(lint)</td>\n",
       "      <td>7638</td>\n",
       "      <td>7144</td>\n",
       "      <td>27.09</td>\n",
       "      <td>57.94</td>\n",
       "      <td>4.85</td>\n",
       "      <td>520.0</td>\n",
       "      <td>mixed red and black</td>\n",
       "    </tr>\n",
       "    <tr>\n",
       "      <th>6</th>\n",
       "      <td>Andhra Pradesh</td>\n",
       "      <td>ANANTAPUR</td>\n",
       "      <td>2003</td>\n",
       "      <td>Kharif</td>\n",
       "      <td>Cotton(lint)</td>\n",
       "      <td>4212</td>\n",
       "      <td>4262</td>\n",
       "      <td>27.66</td>\n",
       "      <td>55.81</td>\n",
       "      <td>4.77</td>\n",
       "      <td>520.0</td>\n",
       "      <td>mixed red and black</td>\n",
       "    </tr>\n",
       "    <tr>\n",
       "      <th>7</th>\n",
       "      <td>Andhra Pradesh</td>\n",
       "      <td>ANANTAPUR</td>\n",
       "      <td>2004</td>\n",
       "      <td>Kharif</td>\n",
       "      <td>Cotton(lint)</td>\n",
       "      <td>8933</td>\n",
       "      <td>7041</td>\n",
       "      <td>26.29</td>\n",
       "      <td>61.38</td>\n",
       "      <td>4.62</td>\n",
       "      <td>520.0</td>\n",
       "      <td>mixed red and black</td>\n",
       "    </tr>\n",
       "    <tr>\n",
       "      <th>8</th>\n",
       "      <td>Andhra Pradesh</td>\n",
       "      <td>ANANTAPUR</td>\n",
       "      <td>2005</td>\n",
       "      <td>Kharif</td>\n",
       "      <td>Cotton(lint)</td>\n",
       "      <td>3295</td>\n",
       "      <td>3450</td>\n",
       "      <td>26.21</td>\n",
       "      <td>65.00</td>\n",
       "      <td>4.14</td>\n",
       "      <td>520.0</td>\n",
       "      <td>mixed red and black</td>\n",
       "    </tr>\n",
       "    <tr>\n",
       "      <th>9</th>\n",
       "      <td>Andhra Pradesh</td>\n",
       "      <td>ANANTAPUR</td>\n",
       "      <td>2006</td>\n",
       "      <td>Kharif</td>\n",
       "      <td>Cotton(lint)</td>\n",
       "      <td>1506</td>\n",
       "      <td>1940</td>\n",
       "      <td>26.37</td>\n",
       "      <td>62.50</td>\n",
       "      <td>4.59</td>\n",
       "      <td>520.0</td>\n",
       "      <td>mixed red and black</td>\n",
       "    </tr>\n",
       "  </tbody>\n",
       "</table>\n",
       "</div>"
      ],
      "text/plain": [
       "       State_Name District_Name  Crop_Year       Season          Crop   Area  \\\n",
       "0  Andhra Pradesh     ANANTAPUR       1997  Kharif       Cotton(lint)   7300   \n",
       "1  Andhra Pradesh     ANANTAPUR       1998  Kharif       Cotton(lint)  14000   \n",
       "2  Andhra Pradesh     ANANTAPUR       1999  Kharif       Cotton(lint)   9453   \n",
       "3  Andhra Pradesh     ANANTAPUR       2000  Kharif       Cotton(lint)  12025   \n",
       "4  Andhra Pradesh     ANANTAPUR       2001  Kharif       Cotton(lint)   8552   \n",
       "5  Andhra Pradesh     ANANTAPUR       2002  Kharif       Cotton(lint)   7638   \n",
       "6  Andhra Pradesh     ANANTAPUR       2003  Kharif       Cotton(lint)   4212   \n",
       "7  Andhra Pradesh     ANANTAPUR       2004  Kharif       Cotton(lint)   8933   \n",
       "8  Andhra Pradesh     ANANTAPUR       2005  Kharif       Cotton(lint)   3295   \n",
       "9  Andhra Pradesh     ANANTAPUR       2006  Kharif       Cotton(lint)   1506   \n",
       "\n",
       "   Production  temperature  humidity  wind_speed   Rainfall  \\\n",
       "0        9400        26.93     59.81         4.61     520.0   \n",
       "1       12900        27.08     62.00         4.22     520.0   \n",
       "2       10510        26.24     60.44         4.72     520.0   \n",
       "3       16128        26.53     59.56         4.58     520.0   \n",
       "4        9055        26.60     60.12         4.67     520.0   \n",
       "5        7144        27.09     57.94         4.85     520.0   \n",
       "6        4262        27.66     55.81         4.77     520.0   \n",
       "7        7041        26.29     61.38         4.62     520.0   \n",
       "8        3450        26.21     65.00         4.14     520.0   \n",
       "9        1940        26.37     62.50         4.59     520.0   \n",
       "\n",
       "             soil_type  \n",
       "0  mixed red and black  \n",
       "1  mixed red and black  \n",
       "2  mixed red and black  \n",
       "3  mixed red and black  \n",
       "4  mixed red and black  \n",
       "5  mixed red and black  \n",
       "6  mixed red and black  \n",
       "7  mixed red and black  \n",
       "8  mixed red and black  \n",
       "9  mixed red and black  "
      ]
     },
     "execution_count": 9,
     "metadata": {},
     "output_type": "execute_result"
    }
   ],
   "source": [
    "df = pd.read_csv(\"final_dataset_123.csv\",encoding='latin-1')\n",
    "df.head(10)"
   ]
  },
  {
   "cell_type": "code",
   "execution_count": 10,
   "metadata": {
    "executionInfo": {
     "elapsed": 39,
     "status": "ok",
     "timestamp": 1733666811889,
     "user": {
      "displayName": "Aakriti Hardel",
      "userId": "14054904044420853988"
     },
     "user_tz": -330
    },
    "id": "uyGod5TnTyUW"
   },
   "outputs": [],
   "source": [
    "df.drop('Crop',axis=1,inplace=True)"
   ]
  },
  {
   "cell_type": "code",
   "execution_count": 11,
   "metadata": {
    "executionInfo": {
     "elapsed": 37,
     "status": "ok",
     "timestamp": 1733666811889,
     "user": {
      "displayName": "Aakriti Hardel",
      "userId": "14054904044420853988"
     },
     "user_tz": -330
    },
    "id": "8_UR1tNl3aJQ"
   },
   "outputs": [],
   "source": [
    "df.drop('Season',axis=1,inplace=True)"
   ]
  },
  {
   "cell_type": "code",
   "execution_count": null,
   "metadata": {},
   "outputs": [],
   "source": []
  },
  {
   "cell_type": "code",
   "execution_count": null,
   "metadata": {},
   "outputs": [],
   "source": []
  },
  {
   "cell_type": "code",
   "execution_count": 12,
   "metadata": {
    "executionInfo": {
     "elapsed": 37,
     "status": "ok",
     "timestamp": 1733666811889,
     "user": {
      "displayName": "Aakriti Hardel",
      "userId": "14054904044420853988"
     },
     "user_tz": -330
    },
    "id": "DwL853yV3evD"
   },
   "outputs": [],
   "source": [
    "df.drop('Crop_Year',axis=1,inplace=True)"
   ]
  },
  {
   "cell_type": "code",
   "execution_count": 13,
   "metadata": {
    "colab": {
     "base_uri": "https://localhost:8080/",
     "height": 206
    },
    "executionInfo": {
     "elapsed": 36,
     "status": "ok",
     "timestamp": 1733666811889,
     "user": {
      "displayName": "Aakriti Hardel",
      "userId": "14054904044420853988"
     },
     "user_tz": -330
    },
    "id": "kfiP5ReqUGah",
    "outputId": "81f1e6cb-bba0-4084-c3e0-b064fdd710a3"
   },
   "outputs": [
    {
     "data": {
      "text/html": [
       "<div>\n",
       "<style scoped>\n",
       "    .dataframe tbody tr th:only-of-type {\n",
       "        vertical-align: middle;\n",
       "    }\n",
       "\n",
       "    .dataframe tbody tr th {\n",
       "        vertical-align: top;\n",
       "    }\n",
       "\n",
       "    .dataframe thead th {\n",
       "        text-align: right;\n",
       "    }\n",
       "</style>\n",
       "<table border=\"1\" class=\"dataframe\">\n",
       "  <thead>\n",
       "    <tr style=\"text-align: right;\">\n",
       "      <th></th>\n",
       "      <th>State_Name</th>\n",
       "      <th>District_Name</th>\n",
       "      <th>Area</th>\n",
       "      <th>Production</th>\n",
       "      <th>temperature</th>\n",
       "      <th>humidity</th>\n",
       "      <th>wind_speed</th>\n",
       "      <th>Rainfall</th>\n",
       "      <th>soil_type</th>\n",
       "    </tr>\n",
       "  </thead>\n",
       "  <tbody>\n",
       "    <tr>\n",
       "      <th>0</th>\n",
       "      <td>Andhra Pradesh</td>\n",
       "      <td>ANANTAPUR</td>\n",
       "      <td>7300</td>\n",
       "      <td>9400</td>\n",
       "      <td>26.93</td>\n",
       "      <td>59.81</td>\n",
       "      <td>4.61</td>\n",
       "      <td>520.0</td>\n",
       "      <td>mixed red and black</td>\n",
       "    </tr>\n",
       "    <tr>\n",
       "      <th>1</th>\n",
       "      <td>Andhra Pradesh</td>\n",
       "      <td>ANANTAPUR</td>\n",
       "      <td>14000</td>\n",
       "      <td>12900</td>\n",
       "      <td>27.08</td>\n",
       "      <td>62.00</td>\n",
       "      <td>4.22</td>\n",
       "      <td>520.0</td>\n",
       "      <td>mixed red and black</td>\n",
       "    </tr>\n",
       "    <tr>\n",
       "      <th>2</th>\n",
       "      <td>Andhra Pradesh</td>\n",
       "      <td>ANANTAPUR</td>\n",
       "      <td>9453</td>\n",
       "      <td>10510</td>\n",
       "      <td>26.24</td>\n",
       "      <td>60.44</td>\n",
       "      <td>4.72</td>\n",
       "      <td>520.0</td>\n",
       "      <td>mixed red and black</td>\n",
       "    </tr>\n",
       "    <tr>\n",
       "      <th>3</th>\n",
       "      <td>Andhra Pradesh</td>\n",
       "      <td>ANANTAPUR</td>\n",
       "      <td>12025</td>\n",
       "      <td>16128</td>\n",
       "      <td>26.53</td>\n",
       "      <td>59.56</td>\n",
       "      <td>4.58</td>\n",
       "      <td>520.0</td>\n",
       "      <td>mixed red and black</td>\n",
       "    </tr>\n",
       "    <tr>\n",
       "      <th>4</th>\n",
       "      <td>Andhra Pradesh</td>\n",
       "      <td>ANANTAPUR</td>\n",
       "      <td>8552</td>\n",
       "      <td>9055</td>\n",
       "      <td>26.60</td>\n",
       "      <td>60.12</td>\n",
       "      <td>4.67</td>\n",
       "      <td>520.0</td>\n",
       "      <td>mixed red and black</td>\n",
       "    </tr>\n",
       "  </tbody>\n",
       "</table>\n",
       "</div>"
      ],
      "text/plain": [
       "       State_Name District_Name   Area  Production  temperature  humidity  \\\n",
       "0  Andhra Pradesh     ANANTAPUR   7300        9400        26.93     59.81   \n",
       "1  Andhra Pradesh     ANANTAPUR  14000       12900        27.08     62.00   \n",
       "2  Andhra Pradesh     ANANTAPUR   9453       10510        26.24     60.44   \n",
       "3  Andhra Pradesh     ANANTAPUR  12025       16128        26.53     59.56   \n",
       "4  Andhra Pradesh     ANANTAPUR   8552        9055        26.60     60.12   \n",
       "\n",
       "   wind_speed   Rainfall            soil_type  \n",
       "0         4.61     520.0  mixed red and black  \n",
       "1         4.22     520.0  mixed red and black  \n",
       "2         4.72     520.0  mixed red and black  \n",
       "3         4.58     520.0  mixed red and black  \n",
       "4         4.67     520.0  mixed red and black  "
      ]
     },
     "execution_count": 13,
     "metadata": {},
     "output_type": "execute_result"
    }
   ],
   "source": [
    "df.head()"
   ]
  },
  {
   "cell_type": "code",
   "execution_count": 14,
   "metadata": {
    "colab": {
     "base_uri": "https://localhost:8080/"
    },
    "executionInfo": {
     "elapsed": 36,
     "status": "ok",
     "timestamp": 1733666811890,
     "user": {
      "displayName": "Aakriti Hardel",
      "userId": "14054904044420853988"
     },
     "user_tz": -330
    },
    "id": "RCZMnhQsUgms",
    "outputId": "5001707e-ecb5-4877-a350-570b6674d492"
   },
   "outputs": [
    {
     "data": {
      "text/plain": [
       "(1707, 9)"
      ]
     },
     "execution_count": 14,
     "metadata": {},
     "output_type": "execute_result"
    }
   ],
   "source": [
    "df.shape"
   ]
  },
  {
   "cell_type": "code",
   "execution_count": 15,
   "metadata": {
    "colab": {
     "base_uri": "https://localhost:8080/",
     "height": 366
    },
    "executionInfo": {
     "elapsed": 33,
     "status": "ok",
     "timestamp": 1733666811890,
     "user": {
      "displayName": "Aakriti Hardel",
      "userId": "14054904044420853988"
     },
     "user_tz": -330
    },
    "id": "mslY8UApUpGT",
    "outputId": "75834805-5242-4db3-d0ed-355e761dc78d"
   },
   "outputs": [
    {
     "data": {
      "text/plain": [
       "State_Name       0\n",
       "District_Name    0\n",
       "Area             0\n",
       "Production       0\n",
       "temperature      0\n",
       "humidity         0\n",
       "wind_speed       0\n",
       "Rainfall         0\n",
       "soil_type        0\n",
       "dtype: int64"
      ]
     },
     "execution_count": 15,
     "metadata": {},
     "output_type": "execute_result"
    }
   ],
   "source": [
    "df.isnull().sum()"
   ]
  },
  {
   "cell_type": "code",
   "execution_count": 16,
   "metadata": {
    "colab": {
     "base_uri": "https://localhost:8080/"
    },
    "executionInfo": {
     "elapsed": 31,
     "status": "ok",
     "timestamp": 1733666811890,
     "user": {
      "displayName": "Aakriti Hardel",
      "userId": "14054904044420853988"
     },
     "user_tz": -330
    },
    "id": "HOzvEt5pVRj_",
    "outputId": "769e0cc0-4748-4c8a-fa7c-9425d66b83bc"
   },
   "outputs": [
    {
     "name": "stdout",
     "output_type": "stream",
     "text": [
      "<class 'pandas.core.frame.DataFrame'>\n",
      "RangeIndex: 1707 entries, 0 to 1706\n",
      "Data columns (total 9 columns):\n",
      " #   Column         Non-Null Count  Dtype  \n",
      "---  ------         --------------  -----  \n",
      " 0   State_Name     1707 non-null   object \n",
      " 1   District_Name  1707 non-null   object \n",
      " 2   Area           1707 non-null   int64  \n",
      " 3   Production     1707 non-null   int64  \n",
      " 4   temperature    1707 non-null   float64\n",
      " 5   humidity       1707 non-null   float64\n",
      " 6   wind_speed     1707 non-null   float64\n",
      " 7   Rainfall       1707 non-null   float64\n",
      " 8   soil_type      1707 non-null   object \n",
      "dtypes: float64(4), int64(2), object(3)\n",
      "memory usage: 120.2+ KB\n"
     ]
    }
   ],
   "source": [
    "df.info()"
   ]
  },
  {
   "cell_type": "code",
   "execution_count": 17,
   "metadata": {
    "colab": {
     "base_uri": "https://localhost:8080/",
     "height": 300
    },
    "executionInfo": {
     "elapsed": 30,
     "status": "ok",
     "timestamp": 1733666811890,
     "user": {
      "displayName": "Aakriti Hardel",
      "userId": "14054904044420853988"
     },
     "user_tz": -330
    },
    "id": "E_ZdtSkvVmyu",
    "outputId": "3ee7de17-80cd-42d7-8f7b-c5dcd2ae0923"
   },
   "outputs": [
    {
     "data": {
      "text/html": [
       "<div>\n",
       "<style scoped>\n",
       "    .dataframe tbody tr th:only-of-type {\n",
       "        vertical-align: middle;\n",
       "    }\n",
       "\n",
       "    .dataframe tbody tr th {\n",
       "        vertical-align: top;\n",
       "    }\n",
       "\n",
       "    .dataframe thead th {\n",
       "        text-align: right;\n",
       "    }\n",
       "</style>\n",
       "<table border=\"1\" class=\"dataframe\">\n",
       "  <thead>\n",
       "    <tr style=\"text-align: right;\">\n",
       "      <th></th>\n",
       "      <th>Area</th>\n",
       "      <th>Production</th>\n",
       "      <th>temperature</th>\n",
       "      <th>humidity</th>\n",
       "      <th>wind_speed</th>\n",
       "      <th>Rainfall</th>\n",
       "    </tr>\n",
       "  </thead>\n",
       "  <tbody>\n",
       "    <tr>\n",
       "      <th>count</th>\n",
       "      <td>1707.000000</td>\n",
       "      <td>1.707000e+03</td>\n",
       "      <td>1707.000000</td>\n",
       "      <td>1707.000000</td>\n",
       "      <td>1707.000000</td>\n",
       "      <td>1707.000000</td>\n",
       "    </tr>\n",
       "    <tr>\n",
       "      <th>mean</th>\n",
       "      <td>30069.499707</td>\n",
       "      <td>5.376803e+04</td>\n",
       "      <td>25.579356</td>\n",
       "      <td>58.940123</td>\n",
       "      <td>3.437376</td>\n",
       "      <td>1202.002291</td>\n",
       "    </tr>\n",
       "    <tr>\n",
       "      <th>std</th>\n",
       "      <td>59600.553326</td>\n",
       "      <td>1.211614e+05</td>\n",
       "      <td>1.788354</td>\n",
       "      <td>14.869320</td>\n",
       "      <td>5.868033</td>\n",
       "      <td>4259.841443</td>\n",
       "    </tr>\n",
       "    <tr>\n",
       "      <th>min</th>\n",
       "      <td>1.000000</td>\n",
       "      <td>0.000000e+00</td>\n",
       "      <td>16.460000</td>\n",
       "      <td>24.560000</td>\n",
       "      <td>0.470000</td>\n",
       "      <td>218.000000</td>\n",
       "    </tr>\n",
       "    <tr>\n",
       "      <th>25%</th>\n",
       "      <td>45.000000</td>\n",
       "      <td>2.600000e+01</td>\n",
       "      <td>24.280000</td>\n",
       "      <td>47.110000</td>\n",
       "      <td>2.425000</td>\n",
       "      <td>669.000000</td>\n",
       "    </tr>\n",
       "    <tr>\n",
       "      <th>50%</th>\n",
       "      <td>2593.000000</td>\n",
       "      <td>2.961000e+03</td>\n",
       "      <td>25.940000</td>\n",
       "      <td>61.810000</td>\n",
       "      <td>2.980000</td>\n",
       "      <td>900.000000</td>\n",
       "    </tr>\n",
       "    <tr>\n",
       "      <th>75%</th>\n",
       "      <td>28470.000000</td>\n",
       "      <td>4.301900e+04</td>\n",
       "      <td>26.905000</td>\n",
       "      <td>71.470000</td>\n",
       "      <td>3.385000</td>\n",
       "      <td>1388.000000</td>\n",
       "    </tr>\n",
       "    <tr>\n",
       "      <th>max</th>\n",
       "      <td>388900.000000</td>\n",
       "      <td>1.142600e+06</td>\n",
       "      <td>28.630000</td>\n",
       "      <td>82.940000</td>\n",
       "      <td>66.190000</td>\n",
       "      <td>175234.000000</td>\n",
       "    </tr>\n",
       "  </tbody>\n",
       "</table>\n",
       "</div>"
      ],
      "text/plain": [
       "                Area    Production  temperature     humidity  wind_speed   \\\n",
       "count    1707.000000  1.707000e+03  1707.000000  1707.000000  1707.000000   \n",
       "mean    30069.499707  5.376803e+04    25.579356    58.940123     3.437376   \n",
       "std     59600.553326  1.211614e+05     1.788354    14.869320     5.868033   \n",
       "min         1.000000  0.000000e+00    16.460000    24.560000     0.470000   \n",
       "25%        45.000000  2.600000e+01    24.280000    47.110000     2.425000   \n",
       "50%      2593.000000  2.961000e+03    25.940000    61.810000     2.980000   \n",
       "75%     28470.000000  4.301900e+04    26.905000    71.470000     3.385000   \n",
       "max    388900.000000  1.142600e+06    28.630000    82.940000    66.190000   \n",
       "\n",
       "            Rainfall  \n",
       "count    1707.000000  \n",
       "mean     1202.002291  \n",
       "std      4259.841443  \n",
       "min       218.000000  \n",
       "25%       669.000000  \n",
       "50%       900.000000  \n",
       "75%      1388.000000  \n",
       "max    175234.000000  "
      ]
     },
     "execution_count": 17,
     "metadata": {},
     "output_type": "execute_result"
    }
   ],
   "source": [
    "df.describe()"
   ]
  },
  {
   "cell_type": "code",
   "execution_count": 18,
   "metadata": {
    "colab": {
     "base_uri": "https://localhost:8080/",
     "height": 458
    },
    "executionInfo": {
     "elapsed": 28,
     "status": "ok",
     "timestamp": 1733666811890,
     "user": {
      "displayName": "Aakriti Hardel",
      "userId": "14054904044420853988"
     },
     "user_tz": -330
    },
    "id": "-c6x1DB1YcyN",
    "outputId": "00b610e1-92b9-465d-9661-05d09bae6e46"
   },
   "outputs": [
    {
     "name": "stdout",
     "output_type": "stream",
     "text": [
      "Index(['State_Name', 'District_Name', 'Area', 'Production', 'temperature',\n",
      "       'humidity', 'wind_speed ', 'Rainfall', 'soil_type'],\n",
      "      dtype='object')\n"
     ]
    }
   ],
   "source": [
    "print(df.columns)"
   ]
  },
  {
   "cell_type": "code",
   "execution_count": 19,
   "metadata": {
    "colab": {
     "base_uri": "https://localhost:8080/",
     "height": 458
    },
    "executionInfo": {
     "elapsed": 28,
     "status": "ok",
     "timestamp": 1733666811890,
     "user": {
      "displayName": "Aakriti Hardel",
      "userId": "14054904044420853988"
     },
     "user_tz": -330
    },
    "id": "-c6x1DB1YcyN",
    "outputId": "00b610e1-92b9-465d-9661-05d09bae6e46"
   },
   "outputs": [],
   "source": [
    "df.columns = df.columns.str.strip()"
   ]
  },
  {
   "cell_type": "markdown",
   "metadata": {
    "id": "zx1hfgShZo15"
   },
   "source": [
    "# ** Graph**"
   ]
  },
  {
   "cell_type": "code",
   "execution_count": 20,
   "metadata": {
    "colab": {
     "base_uri": "https://localhost:8080/",
     "height": 1000
    },
    "executionInfo": {
     "elapsed": 28,
     "status": "ok",
     "timestamp": 1733666811891,
     "user": {
      "displayName": "Aakriti Hardel",
      "userId": "14054904044420853988"
     },
     "user_tz": -330
    },
    "id": "htxl18CxaMaq",
    "outputId": "6c5d2171-2df2-4132-aef2-76a3a6dd48e7"
   },
   "outputs": [
    {
     "data": {
      "text/plain": [
       "<Axes: xlabel='count', ylabel='State_Name'>"
      ]
     },
     "execution_count": 20,
     "metadata": {},
     "output_type": "execute_result"
    },
    {
     "data": {
      "image/png": "[encoded data removed]",
      "text/plain": [
       "<Figure size 1000x2000 with 1 Axes>"
      ]
     },
     "metadata": {},
     "output_type": "display_data"
    }
   ],
   "source": [
    "plt.figure(figsize=(10,20))\n",
    "sns.countplot(y=df['State_Name'])"
   ]
  },
  {
   "cell_type": "code",
   "execution_count": 21,
   "metadata": {
    "colab": {
     "base_uri": "https://localhost:8080/",
     "height": 1000
    },
    "executionInfo": {
     "elapsed": 12272,
     "status": "ok",
     "timestamp": 1733666824138,
     "user": {
      "displayName": "Aakriti Hardel",
      "userId": "14054904044420853988"
     },
     "user_tz": -330
    },
    "id": "KuI0v8O3bseS",
    "outputId": "e7653f5d-f3ac-465f-d665-ce01fd583dd9"
   },
   "outputs": [
    {
     "data": {
      "text/plain": [
       "<Axes: xlabel='count', ylabel='Production'>"
      ]
     },
     "execution_count": 21,
     "metadata": {},
     "output_type": "execute_result"
    },
    {
     "data": {
      "image/png": "[encoded data removed]",
      "text/plain": [
       "<Figure size 1000x2000 with 1 Axes>"
      ]
     },
     "metadata": {},
     "output_type": "display_data"
    }
   ],
   "source": [
    "plt.figure(figsize=(10,20))\n",
    "sns.countplot(y=df['Production'])"
   ]
  },
  {
   "cell_type": "code",
   "execution_count": 22,
   "metadata": {
    "colab": {
     "base_uri": "https://localhost:8080/",
     "height": 112
    },
    "executionInfo": {
     "elapsed": 21,
     "status": "ok",
     "timestamp": 1733666824139,
     "user": {
      "displayName": "Aakriti Hardel",
      "userId": "14054904044420853988"
     },
     "user_tz": -330
    },
    "id": "U5eqzu7Qlbts",
    "outputId": "f36f3c09-887c-4108-ca4f-9b63c747363c"
   },
   "outputs": [
    {
     "data": {
      "text/html": [
       "<div>\n",
       "<style scoped>\n",
       "    .dataframe tbody tr th:only-of-type {\n",
       "        vertical-align: middle;\n",
       "    }\n",
       "\n",
       "    .dataframe tbody tr th {\n",
       "        vertical-align: top;\n",
       "    }\n",
       "\n",
       "    .dataframe thead th {\n",
       "        text-align: right;\n",
       "    }\n",
       "</style>\n",
       "<table border=\"1\" class=\"dataframe\">\n",
       "  <thead>\n",
       "    <tr style=\"text-align: right;\">\n",
       "      <th></th>\n",
       "      <th>State_Name</th>\n",
       "      <th>District_Name</th>\n",
       "      <th>Area</th>\n",
       "      <th>Production</th>\n",
       "      <th>temperature</th>\n",
       "      <th>humidity</th>\n",
       "      <th>wind_speed</th>\n",
       "      <th>Rainfall</th>\n",
       "      <th>soil_type</th>\n",
       "    </tr>\n",
       "  </thead>\n",
       "  <tbody>\n",
       "    <tr>\n",
       "      <th>0</th>\n",
       "      <td>Andhra Pradesh</td>\n",
       "      <td>ANANTAPUR</td>\n",
       "      <td>7300</td>\n",
       "      <td>9400</td>\n",
       "      <td>26.93</td>\n",
       "      <td>59.81</td>\n",
       "      <td>4.61</td>\n",
       "      <td>520.0</td>\n",
       "      <td>mixed red and black</td>\n",
       "    </tr>\n",
       "    <tr>\n",
       "      <th>1</th>\n",
       "      <td>Andhra Pradesh</td>\n",
       "      <td>ANANTAPUR</td>\n",
       "      <td>14000</td>\n",
       "      <td>12900</td>\n",
       "      <td>27.08</td>\n",
       "      <td>62.00</td>\n",
       "      <td>4.22</td>\n",
       "      <td>520.0</td>\n",
       "      <td>mixed red and black</td>\n",
       "    </tr>\n",
       "  </tbody>\n",
       "</table>\n",
       "</div>"
      ],
      "text/plain": [
       "       State_Name District_Name   Area  Production  temperature  humidity  \\\n",
       "0  Andhra Pradesh     ANANTAPUR   7300        9400        26.93     59.81   \n",
       "1  Andhra Pradesh     ANANTAPUR  14000       12900        27.08     62.00   \n",
       "\n",
       "   wind_speed  Rainfall            soil_type  \n",
       "0        4.61     520.0  mixed red and black  \n",
       "1        4.22     520.0  mixed red and black  "
      ]
     },
     "execution_count": 22,
     "metadata": {},
     "output_type": "execute_result"
    }
   ],
   "source": [
    "df.head(2)"
   ]
  },
  {
   "cell_type": "markdown",
   "metadata": {
    "id": "OyBoa_EQ4dBI"
   },
   "source": [
    "# **yield per district**"
   ]
  },
  {
   "cell_type": "code",
   "execution_count": 23,
   "metadata": {
    "executionInfo": {
     "elapsed": 19,
     "status": "ok",
     "timestamp": 1733666824140,
     "user": {
      "displayName": "Aakriti Hardel",
      "userId": "14054904044420853988"
     },
     "user_tz": -330
    },
    "id": "mIqstg2JmJtk"
   },
   "outputs": [],
   "source": [
    "state = (df['District_Name'].unique())"
   ]
  },
  {
   "cell_type": "code",
   "execution_count": 24,
   "metadata": {
    "executionInfo": {
     "elapsed": 19,
     "status": "ok",
     "timestamp": 1733666824140,
     "user": {
      "displayName": "Aakriti Hardel",
      "userId": "14054904044420853988"
     },
     "user_tz": -330
    },
    "id": "qLGpo52ymcdz"
   },
   "outputs": [],
   "source": [
    "yield_per_state = []\n",
    "for i in state:\n",
    "  yield_per_state.append(df[df['District_Name']==i]['Production'].sum())"
   ]
  },
  {
   "cell_type": "code",
   "execution_count": 25,
   "metadata": {
    "colab": {
     "base_uri": "https://localhost:8080/",
     "height": 458
    },
    "executionInfo": {
     "elapsed": 18,
     "status": "ok",
     "timestamp": 1733666824140,
     "user": {
      "displayName": "Aakriti Hardel",
      "userId": "14054904044420853988"
     },
     "user_tz": -330
    },
    "id": "kWJDjYVRm1iE",
    "outputId": "a95fa78d-dbc4-4325-a20d-d730eff63157"
   },
   "outputs": [
    {
     "data": {
      "text/plain": [
       "0         9400\n",
       "1        12900\n",
       "2        10510\n",
       "3        16128\n",
       "4         9055\n",
       "         ...  \n",
       "1702    527674\n",
       "1703    598094\n",
       "1704    600427\n",
       "1705    665182\n",
       "1706    607705\n",
       "Name: Production, Length: 1707, dtype: int64"
      ]
     },
     "execution_count": 25,
     "metadata": {},
     "output_type": "execute_result"
    }
   ],
   "source": [
    "df['Production']"
   ]
  },
  {
   "cell_type": "markdown",
   "metadata": {
    "id": "EyIPffECogr2"
   },
   "source": [
    "# **production per state**"
   ]
  },
  {
   "cell_type": "code",
   "execution_count": 26,
   "metadata": {
    "colab": {
     "base_uri": "https://localhost:8080/",
     "height": 1000
    },
    "executionInfo": {
     "elapsed": 1093,
     "status": "ok",
     "timestamp": 1733666825217,
     "user": {
      "displayName": "Aakriti Hardel",
      "userId": "14054904044420853988"
     },
     "user_tz": -330
    },
    "id": "-AeJ2BgFnSeK",
    "outputId": "f1100eb4-8cd8-4e47-990a-a9e66738fb9f"
   },
   "outputs": [
    {
     "data": {
      "text/plain": [
       "<Axes: >"
      ]
     },
     "execution_count": 26,
     "metadata": {},
     "output_type": "execute_result"
    },
    {
     "data": {
      "image/png": "[encoded data removed]",
      "text/plain": [
       "<Figure size 1000x2000 with 1 Axes>"
      ]
     },
     "metadata": {},
     "output_type": "display_data"
    }
   ],
   "source": [
    "plt.figure(figsize=(10,20))\n",
    "sns.barplot(y=yield_per_state,x=state,color='blue')"
   ]
  },
  {
   "cell_type": "markdown",
   "metadata": {
    "id": "6jGquwWv5AY7"
   },
   "source": [
    "# **Train test split reaaranging columns**"
   ]
  },
  {
   "cell_type": "code",
   "execution_count": 27,
   "metadata": {
    "executionInfo": {
     "elapsed": 49,
     "status": "ok",
     "timestamp": 1733666825218,
     "user": {
      "displayName": "Aakriti Hardel",
      "userId": "14054904044420853988"
     },
     "user_tz": -330
    },
    "id": "eqFIaqGk4Exg"
   },
   "outputs": [],
   "source": [
    "col =['State_Name','District_Name','temperature','humidity','wind_speed','Rainfall','soil_type','Area','Production']\n",
    "df = df[col]"
   ]
  },
  {
   "cell_type": "code",
   "execution_count": 28,
   "metadata": {
    "colab": {
     "base_uri": "https://localhost:8080/",
     "height": 527
    },
    "executionInfo": {
     "elapsed": 48,
     "status": "ok",
     "timestamp": 1733666825218,
     "user": {
      "displayName": "Aakriti Hardel",
      "userId": "14054904044420853988"
     },
     "user_tz": -330
    },
    "id": "WFmxwoyo7QBA",
    "outputId": "0d97f87e-53c3-4177-b93c-48d94591287d"
   },
   "outputs": [
    {
     "name": "stdout",
     "output_type": "stream",
     "text": [
      "Index(['State_Name', 'District_Name', 'temperature', 'humidity', 'wind_speed',\n",
      "       'Rainfall', 'soil_type', 'Area', 'Production'],\n",
      "      dtype='object')\n"
     ]
    }
   ],
   "source": [
    "print(df.columns)"
   ]
  },
  {
   "cell_type": "code",
   "execution_count": 29,
   "metadata": {
    "executionInfo": {
     "elapsed": 46,
     "status": "ok",
     "timestamp": 1733666825218,
     "user": {
      "displayName": "Aakriti Hardel",
      "userId": "14054904044420853988"
     },
     "user_tz": -330
    },
    "id": "cBexwAKl7d_h"
   },
   "outputs": [],
   "source": [
    "x = df.drop('Production',axis=1)\n",
    "y = df['Production']"
   ]
  },
  {
   "cell_type": "code",
   "execution_count": 30,
   "metadata": {
    "executionInfo": {
     "elapsed": 45,
     "status": "ok",
     "timestamp": 1733666825218,
     "user": {
      "displayName": "Aakriti Hardel",
      "userId": "14054904044420853988"
     },
     "user_tz": -330
    },
    "id": "YbBLR0r17uFf"
   },
   "outputs": [],
   "source": [
    "from sklearn.model_selection import train_test_split\n",
    "x_train,x_test,y_train,y_test = train_test_split(x,y,test_size=0.2,random_state=42)"
   ]
  },
  {
   "cell_type": "code",
   "execution_count": 31,
   "metadata": {
    "colab": {
     "base_uri": "https://localhost:8080/"
    },
    "executionInfo": {
     "elapsed": 44,
     "status": "ok",
     "timestamp": 1733666825218,
     "user": {
      "displayName": "Aakriti Hardel",
      "userId": "14054904044420853988"
     },
     "user_tz": -330
    },
    "id": "kRWH4RNw8dN6",
    "outputId": "01037a09-a930-45d7-bd4f-e6c945c04f32"
   },
   "outputs": [
    {
     "data": {
      "text/plain": [
       "(1365, 8)"
      ]
     },
     "execution_count": 31,
     "metadata": {},
     "output_type": "execute_result"
    }
   ],
   "source": [
    "x_train.shape"
   ]
  },
  {
   "cell_type": "code",
   "execution_count": 32,
   "metadata": {
    "colab": {
     "base_uri": "https://localhost:8080/"
    },
    "executionInfo": {
     "elapsed": 39,
     "status": "ok",
     "timestamp": 1733666825218,
     "user": {
      "displayName": "Aakriti Hardel",
      "userId": "14054904044420853988"
     },
     "user_tz": -330
    },
    "id": "xPazOx_780v4",
    "outputId": "aaa74ef7-48a6-45c0-94e5-c10ab70f4fc6"
   },
   "outputs": [
    {
     "data": {
      "text/plain": [
       "(342, 8)"
      ]
     },
     "execution_count": 32,
     "metadata": {},
     "output_type": "execute_result"
    }
   ],
   "source": [
    "x_test.shape"
   ]
  },
  {
   "cell_type": "code",
   "execution_count": 33,
   "metadata": {
    "colab": {
     "base_uri": "https://localhost:8080/",
     "height": 423
    },
    "executionInfo": {
     "elapsed": 36,
     "status": "ok",
     "timestamp": 1733666825219,
     "user": {
      "displayName": "Aakriti Hardel",
      "userId": "14054904044420853988"
     },
     "user_tz": -330
    },
    "id": "n_Bx-TVH9GXX",
    "outputId": "97b337e7-b261-47cc-c4fe-8d57f02fd5ce"
   },
   "outputs": [
    {
     "data": {
      "text/html": [
       "<div>\n",
       "<style scoped>\n",
       "    .dataframe tbody tr th:only-of-type {\n",
       "        vertical-align: middle;\n",
       "    }\n",
       "\n",
       "    .dataframe tbody tr th {\n",
       "        vertical-align: top;\n",
       "    }\n",
       "\n",
       "    .dataframe thead th {\n",
       "        text-align: right;\n",
       "    }\n",
       "</style>\n",
       "<table border=\"1\" class=\"dataframe\">\n",
       "  <thead>\n",
       "    <tr style=\"text-align: right;\">\n",
       "      <th></th>\n",
       "      <th>State_Name</th>\n",
       "      <th>District_Name</th>\n",
       "      <th>temperature</th>\n",
       "      <th>humidity</th>\n",
       "      <th>wind_speed</th>\n",
       "      <th>Rainfall</th>\n",
       "      <th>soil_type</th>\n",
       "      <th>Area</th>\n",
       "    </tr>\n",
       "  </thead>\n",
       "  <tbody>\n",
       "    <tr>\n",
       "      <th>590</th>\n",
       "      <td>Assam</td>\n",
       "      <td>TINSUKIA</td>\n",
       "      <td>24.61</td>\n",
       "      <td>74.38</td>\n",
       "      <td>1.25</td>\n",
       "      <td>1994.4</td>\n",
       "      <td>alluvial</td>\n",
       "      <td>1</td>\n",
       "    </tr>\n",
       "    <tr>\n",
       "      <th>1550</th>\n",
       "      <td>Rajasthan</td>\n",
       "      <td>TONK</td>\n",
       "      <td>26.10</td>\n",
       "      <td>41.19</td>\n",
       "      <td>3.11</td>\n",
       "      <td>703.0</td>\n",
       "      <td>alluvial</td>\n",
       "      <td>255</td>\n",
       "    </tr>\n",
       "    <tr>\n",
       "      <th>420</th>\n",
       "      <td>Assam</td>\n",
       "      <td>KARBI ANGLONG</td>\n",
       "      <td>22.69</td>\n",
       "      <td>71.50</td>\n",
       "      <td>1.27</td>\n",
       "      <td>1356.7</td>\n",
       "      <td>red</td>\n",
       "      <td>691</td>\n",
       "    </tr>\n",
       "    <tr>\n",
       "      <th>425</th>\n",
       "      <td>Assam</td>\n",
       "      <td>KARBI ANGLONG</td>\n",
       "      <td>22.23</td>\n",
       "      <td>75.12</td>\n",
       "      <td>1.22</td>\n",
       "      <td>1356.7</td>\n",
       "      <td>red</td>\n",
       "      <td>793</td>\n",
       "    </tr>\n",
       "    <tr>\n",
       "      <th>857</th>\n",
       "      <td>Karnataka</td>\n",
       "      <td>CHAMARAJANAGAR</td>\n",
       "      <td>22.97</td>\n",
       "      <td>73.69</td>\n",
       "      <td>2.11</td>\n",
       "      <td>787.0</td>\n",
       "      <td>red</td>\n",
       "      <td>443</td>\n",
       "    </tr>\n",
       "    <tr>\n",
       "      <th>...</th>\n",
       "      <td>...</td>\n",
       "      <td>...</td>\n",
       "      <td>...</td>\n",
       "      <td>...</td>\n",
       "      <td>...</td>\n",
       "      <td>...</td>\n",
       "      <td>...</td>\n",
       "      <td>...</td>\n",
       "    </tr>\n",
       "    <tr>\n",
       "      <th>1130</th>\n",
       "      <td>Maharashtra</td>\n",
       "      <td>GADCHIROLI</td>\n",
       "      <td>27.76</td>\n",
       "      <td>55.31</td>\n",
       "      <td>1.59</td>\n",
       "      <td>1000.0</td>\n",
       "      <td>black</td>\n",
       "      <td>2600</td>\n",
       "    </tr>\n",
       "    <tr>\n",
       "      <th>1294</th>\n",
       "      <td>Rajasthan</td>\n",
       "      <td>BIKANER</td>\n",
       "      <td>27.50</td>\n",
       "      <td>33.19</td>\n",
       "      <td>3.35</td>\n",
       "      <td>307.0</td>\n",
       "      <td>desert</td>\n",
       "      <td>4346</td>\n",
       "    </tr>\n",
       "    <tr>\n",
       "      <th>860</th>\n",
       "      <td>Karnataka</td>\n",
       "      <td>CHAMARAJANAGAR</td>\n",
       "      <td>23.44</td>\n",
       "      <td>70.31</td>\n",
       "      <td>2.30</td>\n",
       "      <td>787.0</td>\n",
       "      <td>red</td>\n",
       "      <td>6522</td>\n",
       "    </tr>\n",
       "    <tr>\n",
       "      <th>1459</th>\n",
       "      <td>Rajasthan</td>\n",
       "      <td>JHUNJHUNU</td>\n",
       "      <td>26.60</td>\n",
       "      <td>28.94</td>\n",
       "      <td>3.43</td>\n",
       "      <td>423.0</td>\n",
       "      <td>grey and drown</td>\n",
       "      <td>36</td>\n",
       "    </tr>\n",
       "    <tr>\n",
       "      <th>1126</th>\n",
       "      <td>Maharashtra</td>\n",
       "      <td>GADCHIROLI</td>\n",
       "      <td>26.76</td>\n",
       "      <td>60.38</td>\n",
       "      <td>1.63</td>\n",
       "      <td>1000.0</td>\n",
       "      <td>black</td>\n",
       "      <td>100</td>\n",
       "    </tr>\n",
       "  </tbody>\n",
       "</table>\n",
       "<p>1365 rows × 8 columns</p>\n",
       "</div>"
      ],
      "text/plain": [
       "       State_Name   District_Name  temperature  humidity  wind_speed  \\\n",
       "590         Assam        TINSUKIA        24.61     74.38        1.25   \n",
       "1550    Rajasthan            TONK        26.10     41.19        3.11   \n",
       "420         Assam   KARBI ANGLONG        22.69     71.50        1.27   \n",
       "425         Assam   KARBI ANGLONG        22.23     75.12        1.22   \n",
       "857     Karnataka  CHAMARAJANAGAR        22.97     73.69        2.11   \n",
       "...           ...             ...          ...       ...         ...   \n",
       "1130  Maharashtra      GADCHIROLI        27.76     55.31        1.59   \n",
       "1294    Rajasthan         BIKANER        27.50     33.19        3.35   \n",
       "860     Karnataka  CHAMARAJANAGAR        23.44     70.31        2.30   \n",
       "1459    Rajasthan       JHUNJHUNU        26.60     28.94        3.43   \n",
       "1126  Maharashtra      GADCHIROLI        26.76     60.38        1.63   \n",
       "\n",
       "      Rainfall       soil_type  Area  \n",
       "590     1994.4        alluvial     1  \n",
       "1550     703.0        alluvial   255  \n",
       "420     1356.7             red   691  \n",
       "425     1356.7             red   793  \n",
       "857      787.0             red   443  \n",
       "...        ...             ...   ...  \n",
       "1130    1000.0           black  2600  \n",
       "1294     307.0          desert  4346  \n",
       "860      787.0             red  6522  \n",
       "1459     423.0  grey and drown    36  \n",
       "1126    1000.0           black   100  \n",
       "\n",
       "[1365 rows x 8 columns]"
      ]
     },
     "execution_count": 33,
     "metadata": {},
     "output_type": "execute_result"
    }
   ],
   "source": [
    "x_train"
   ]
  },
  {
   "cell_type": "markdown",
   "metadata": {
    "id": "clBC4VDD9eWx"
   },
   "source": [
    "# **converting categorical to numerical and scalling the value**"
   ]
  },
  {
   "cell_type": "code",
   "execution_count": 34,
   "metadata": {
    "executionInfo": {
     "elapsed": 34,
     "status": "ok",
     "timestamp": 1733666825219,
     "user": {
      "displayName": "Aakriti Hardel",
      "userId": "14054904044420853988"
     },
     "user_tz": -330
    },
    "id": "erp2q4vy-iJb"
   },
   "outputs": [],
   "source": [
    "from sklearn.preprocessing import OneHotEncoder, StandardScaler # Changed oneHotEncoder to OneHotEncoder\n",
    "from sklearn.compose import ColumnTransformer"
   ]
  },
  {
   "cell_type": "code",
   "execution_count": 35,
   "metadata": {
    "executionInfo": {
     "elapsed": 33,
     "status": "ok",
     "timestamp": 1733666825219,
     "user": {
      "displayName": "Aakriti Hardel",
      "userId": "14054904044420853988"
     },
     "user_tz": -330
    },
    "id": "n6t8rEow-0HV"
   },
   "outputs": [],
   "source": [
    "ohe = OneHotEncoder(drop='first')\n",
    "scaler = StandardScaler()"
   ]
  },
  {
   "cell_type": "code",
   "execution_count": 36,
   "metadata": {
    "colab": {
     "base_uri": "https://localhost:8080/",
     "height": 206
    },
    "executionInfo": {
     "elapsed": 33,
     "status": "ok",
     "timestamp": 1733666825219,
     "user": {
      "displayName": "Aakriti Hardel",
      "userId": "14054904044420853988"
     },
     "user_tz": -330
    },
    "id": "lQ8m_jIS_auR",
    "outputId": "05b2f982-1ee1-4d9a-b9e5-c881c227746c"
   },
   "outputs": [
    {
     "data": {
      "text/html": [
       "<div>\n",
       "<style scoped>\n",
       "    .dataframe tbody tr th:only-of-type {\n",
       "        vertical-align: middle;\n",
       "    }\n",
       "\n",
       "    .dataframe tbody tr th {\n",
       "        vertical-align: top;\n",
       "    }\n",
       "\n",
       "    .dataframe thead th {\n",
       "        text-align: right;\n",
       "    }\n",
       "</style>\n",
       "<table border=\"1\" class=\"dataframe\">\n",
       "  <thead>\n",
       "    <tr style=\"text-align: right;\">\n",
       "      <th></th>\n",
       "      <th>State_Name</th>\n",
       "      <th>District_Name</th>\n",
       "      <th>temperature</th>\n",
       "      <th>humidity</th>\n",
       "      <th>wind_speed</th>\n",
       "      <th>Rainfall</th>\n",
       "      <th>soil_type</th>\n",
       "      <th>Area</th>\n",
       "    </tr>\n",
       "  </thead>\n",
       "  <tbody>\n",
       "    <tr>\n",
       "      <th>590</th>\n",
       "      <td>Assam</td>\n",
       "      <td>TINSUKIA</td>\n",
       "      <td>24.61</td>\n",
       "      <td>74.38</td>\n",
       "      <td>1.25</td>\n",
       "      <td>1994.4</td>\n",
       "      <td>alluvial</td>\n",
       "      <td>1</td>\n",
       "    </tr>\n",
       "    <tr>\n",
       "      <th>1550</th>\n",
       "      <td>Rajasthan</td>\n",
       "      <td>TONK</td>\n",
       "      <td>26.10</td>\n",
       "      <td>41.19</td>\n",
       "      <td>3.11</td>\n",
       "      <td>703.0</td>\n",
       "      <td>alluvial</td>\n",
       "      <td>255</td>\n",
       "    </tr>\n",
       "    <tr>\n",
       "      <th>420</th>\n",
       "      <td>Assam</td>\n",
       "      <td>KARBI ANGLONG</td>\n",
       "      <td>22.69</td>\n",
       "      <td>71.50</td>\n",
       "      <td>1.27</td>\n",
       "      <td>1356.7</td>\n",
       "      <td>red</td>\n",
       "      <td>691</td>\n",
       "    </tr>\n",
       "    <tr>\n",
       "      <th>425</th>\n",
       "      <td>Assam</td>\n",
       "      <td>KARBI ANGLONG</td>\n",
       "      <td>22.23</td>\n",
       "      <td>75.12</td>\n",
       "      <td>1.22</td>\n",
       "      <td>1356.7</td>\n",
       "      <td>red</td>\n",
       "      <td>793</td>\n",
       "    </tr>\n",
       "    <tr>\n",
       "      <th>857</th>\n",
       "      <td>Karnataka</td>\n",
       "      <td>CHAMARAJANAGAR</td>\n",
       "      <td>22.97</td>\n",
       "      <td>73.69</td>\n",
       "      <td>2.11</td>\n",
       "      <td>787.0</td>\n",
       "      <td>red</td>\n",
       "      <td>443</td>\n",
       "    </tr>\n",
       "  </tbody>\n",
       "</table>\n",
       "</div>"
      ],
      "text/plain": [
       "     State_Name   District_Name  temperature  humidity  wind_speed  Rainfall  \\\n",
       "590       Assam        TINSUKIA        24.61     74.38        1.25    1994.4   \n",
       "1550  Rajasthan            TONK        26.10     41.19        3.11     703.0   \n",
       "420       Assam   KARBI ANGLONG        22.69     71.50        1.27    1356.7   \n",
       "425       Assam   KARBI ANGLONG        22.23     75.12        1.22    1356.7   \n",
       "857   Karnataka  CHAMARAJANAGAR        22.97     73.69        2.11     787.0   \n",
       "\n",
       "     soil_type  Area  \n",
       "590   alluvial     1  \n",
       "1550  alluvial   255  \n",
       "420        red   691  \n",
       "425        red   793  \n",
       "857        red   443  "
      ]
     },
     "execution_count": 36,
     "metadata": {},
     "output_type": "execute_result"
    }
   ],
   "source": [
    "x_train.head()"
   ]
  },
  {
   "cell_type": "code",
   "execution_count": 37,
   "metadata": {
    "executionInfo": {
     "elapsed": 31,
     "status": "ok",
     "timestamp": 1733666825219,
     "user": {
      "displayName": "Aakriti Hardel",
      "userId": "14054904044420853988"
     },
     "user_tz": -330
    },
    "id": "WRDGfvto_ps_"
   },
   "outputs": [],
   "source": [
    "preprocessing = ColumnTransformer(\n",
    "    transformers=[\n",
    "        ('OneHotEncoder', ohe, [0, 1, 6]),\n",
    "        ('Standerization', scaler, [2, 3, 4, 5, 7])\n",
    "    ],\n",
    "    remainder='passthrough'\n",
    ")"
   ]
  },
  {
   "cell_type": "code",
   "execution_count": 38,
   "metadata": {
    "colab": {
     "base_uri": "https://localhost:8080/",
     "height": 134
    },
    "executionInfo": {
     "elapsed": 31,
     "status": "ok",
     "timestamp": 1733666825219,
     "user": {
      "displayName": "Aakriti Hardel",
      "userId": "14054904044420853988"
     },
     "user_tz": -330
    },
    "id": "OGvpg_BdA7R-",
    "outputId": "2619f593-cbcc-4ede-a5d1-4e079c7027b5"
   },
   "outputs": [
    {
     "data": {
      "text/html": [
       "<style>#sk-container-id-1 {\n",
       "  /* Definition of color scheme common for light and dark mode */\n",
       "  --sklearn-color-text: black;\n",
       "  --sklearn-color-line: gray;\n",
       "  /* Definition of color scheme for unfitted estimators */\n",
       "  --sklearn-color-unfitted-level-0: #fff5e6;\n",
       "  --sklearn-color-unfitted-level-1: #f6e4d2;\n",
       "  --sklearn-color-unfitted-level-2: #ffe0b3;\n",
       "  --sklearn-color-unfitted-level-3: chocolate;\n",
       "  /* Definition of color scheme for fitted estimators */\n",
       "  --sklearn-color-fitted-level-0: #f0f8ff;\n",
       "  --sklearn-color-fitted-level-1: #d4ebff;\n",
       "  --sklearn-color-fitted-level-2: #b3dbfd;\n",
       "  --sklearn-color-fitted-level-3: cornflowerblue;\n",
       "\n",
       "  /* Specific color for light theme */\n",
       "  --sklearn-color-text-on-default-background: var(--sg-text-color, var(--theme-code-foreground, var(--jp-content-font-color1, black)));\n",
       "  --sklearn-color-background: var(--sg-background-color, var(--theme-background, var(--jp-layout-color0, white)));\n",
       "  --sklearn-color-border-box: var(--sg-text-color, var(--theme-code-foreground, var(--jp-content-font-color1, black)));\n",
       "  --sklearn-color-icon: #696969;\n",
       "\n",
       "  @media (prefers-color-scheme: dark) {\n",
       "    /* Redefinition of color scheme for dark theme */\n",
       "    --sklearn-color-text-on-default-background: var(--sg-text-color, var(--theme-code-foreground, var(--jp-content-font-color1, white)));\n",
       "    --sklearn-color-background: var(--sg-background-color, var(--theme-background, var(--jp-layout-color0, #111)));\n",
       "    --sklearn-color-border-box: var(--sg-text-color, var(--theme-code-foreground, var(--jp-content-font-color1, white)));\n",
       "    --sklearn-color-icon: #878787;\n",
       "  }\n",
       "}\n",
       "\n",
       "#sk-container-id-1 {\n",
       "  color: var(--sklearn-color-text);\n",
       "}\n",
       "\n",
       "#sk-container-id-1 pre {\n",
       "  padding: 0;\n",
       "}\n",
       "\n",
       "#sk-container-id-1 input.sk-hidden--visually {\n",
       "  border: 0;\n",
       "  clip: rect(1px 1px 1px 1px);\n",
       "  clip: rect(1px, 1px, 1px, 1px);\n",
       "  height: 1px;\n",
       "  margin: -1px;\n",
       "  overflow: hidden;\n",
       "  padding: 0;\n",
       "  position: absolute;\n",
       "  width: 1px;\n",
       "}\n",
       "\n",
       "#sk-container-id-1 div.sk-dashed-wrapped {\n",
       "  border: 1px dashed var(--sklearn-color-line);\n",
       "  margin: 0 0.4em 0.5em 0.4em;\n",
       "  box-sizing: border-box;\n",
       "  padding-bottom: 0.4em;\n",
       "  background-color: var(--sklearn-color-background);\n",
       "}\n",
       "\n",
       "#sk-container-id-1 div.sk-container {\n",
       "  /* jupyter's `normalize.less` sets `[hidden] { display: none; }`\n",
       "     but bootstrap.min.css set `[hidden] { display: none !important; }`\n",
       "     so we also need the `!important` here to be able to override the\n",
       "     default hidden behavior on the sphinx rendered scikit-learn.org.\n",
       "     See: https://github.com/scikit-learn/scikit-learn/issues/21755 */\n",
       "  display: inline-block !important;\n",
       "  position: relative;\n",
       "}\n",
       "\n",
       "#sk-container-id-1 div.sk-text-repr-fallback {\n",
       "  display: none;\n",
       "}\n",
       "\n",
       "div.sk-parallel-item,\n",
       "div.sk-serial,\n",
       "div.sk-item {\n",
       "  /* draw centered vertical line to link estimators */\n",
       "  background-image: linear-gradient(var(--sklearn-color-text-on-default-background), var(--sklearn-color-text-on-default-background));\n",
       "  background-size: 2px 100%;\n",
       "  background-repeat: no-repeat;\n",
       "  background-position: center center;\n",
       "}\n",
       "\n",
       "/* Parallel-specific style estimator block */\n",
       "\n",
       "#sk-container-id-1 div.sk-parallel-item::after {\n",
       "  content: \"\";\n",
       "  width: 100%;\n",
       "  border-bottom: 2px solid var(--sklearn-color-text-on-default-background);\n",
       "  flex-grow: 1;\n",
       "}\n",
       "\n",
       "#sk-container-id-1 div.sk-parallel {\n",
       "  display: flex;\n",
       "  align-items: stretch;\n",
       "  justify-content: center;\n",
       "  background-color: var(--sklearn-color-background);\n",
       "  position: relative;\n",
       "}\n",
       "\n",
       "#sk-container-id-1 div.sk-parallel-item {\n",
       "  display: flex;\n",
       "  flex-direction: column;\n",
       "}\n",
       "\n",
       "#sk-container-id-1 div.sk-parallel-item:first-child::after {\n",
       "  align-self: flex-end;\n",
       "  width: 50%;\n",
       "}\n",
       "\n",
       "#sk-container-id-1 div.sk-parallel-item:last-child::after {\n",
       "  align-self: flex-start;\n",
       "  width: 50%;\n",
       "}\n",
       "\n",
       "#sk-container-id-1 div.sk-parallel-item:only-child::after {\n",
       "  width: 0;\n",
       "}\n",
       "\n",
       "/* Serial-specific style estimator block */\n",
       "\n",
       "#sk-container-id-1 div.sk-serial {\n",
       "  display: flex;\n",
       "  flex-direction: column;\n",
       "  align-items: center;\n",
       "  background-color: var(--sklearn-color-background);\n",
       "  padding-right: 1em;\n",
       "  padding-left: 1em;\n",
       "}\n",
       "\n",
       "\n",
       "/* Toggleable style: style used for estimator/Pipeline/ColumnTransformer box that is\n",
       "clickable and can be expanded/collapsed.\n",
       "- Pipeline and ColumnTransformer use this feature and define the default style\n",
       "- Estimators will overwrite some part of the style using the `sk-estimator` class\n",
       "*/\n",
       "\n",
       "/* Pipeline and ColumnTransformer style (default) */\n",
       "\n",
       "#sk-container-id-1 div.sk-toggleable {\n",
       "  /* Default theme specific background. It is overwritten whether we have a\n",
       "  specific estimator or a Pipeline/ColumnTransformer */\n",
       "  background-color: var(--sklearn-color-background);\n",
       "}\n",
       "\n",
       "/* Toggleable label */\n",
       "#sk-container-id-1 label.sk-toggleable__label {\n",
       "  cursor: pointer;\n",
       "  display: block;\n",
       "  width: 100%;\n",
       "  margin-bottom: 0;\n",
       "  padding: 0.5em;\n",
       "  box-sizing: border-box;\n",
       "  text-align: center;\n",
       "}\n",
       "\n",
       "#sk-container-id-1 label.sk-toggleable__label-arrow:before {\n",
       "  /* Arrow on the left of the label */\n",
       "  content: \"▸\";\n",
       "  float: left;\n",
       "  margin-right: 0.25em;\n",
       "  color: var(--sklearn-color-icon);\n",
       "}\n",
       "\n",
       "#sk-container-id-1 label.sk-toggleable__label-arrow:hover:before {\n",
       "  color: var(--sklearn-color-text);\n",
       "}\n",
       "\n",
       "/* Toggleable content - dropdown */\n",
       "\n",
       "#sk-container-id-1 div.sk-toggleable__content {\n",
       "  max-height: 0;\n",
       "  max-width: 0;\n",
       "  overflow: hidden;\n",
       "  text-align: left;\n",
       "  /* unfitted */\n",
       "  background-color: var(--sklearn-color-unfitted-level-0);\n",
       "}\n",
       "\n",
       "#sk-container-id-1 div.sk-toggleable__content.fitted {\n",
       "  /* fitted */\n",
       "  background-color: var(--sklearn-color-fitted-level-0);\n",
       "}\n",
       "\n",
       "#sk-container-id-1 div.sk-toggleable__content pre {\n",
       "  margin: 0.2em;\n",
       "  border-radius: 0.25em;\n",
       "  color: var(--sklearn-color-text);\n",
       "  /* unfitted */\n",
       "  background-color: var(--sklearn-color-unfitted-level-0);\n",
       "}\n",
       "\n",
       "#sk-container-id-1 div.sk-toggleable__content.fitted pre {\n",
       "  /* unfitted */\n",
       "  background-color: var(--sklearn-color-fitted-level-0);\n",
       "}\n",
       "\n",
       "#sk-container-id-1 input.sk-toggleable__control:checked~div.sk-toggleable__content {\n",
       "  /* Expand drop-down */\n",
       "  max-height: 200px;\n",
       "  max-width: 100%;\n",
       "  overflow: auto;\n",
       "}\n",
       "\n",
       "#sk-container-id-1 input.sk-toggleable__control:checked~label.sk-toggleable__label-arrow:before {\n",
       "  content: \"▾\";\n",
       "}\n",
       "\n",
       "/* Pipeline/ColumnTransformer-specific style */\n",
       "\n",
       "#sk-container-id-1 div.sk-label input.sk-toggleable__control:checked~label.sk-toggleable__label {\n",
       "  color: var(--sklearn-color-text);\n",
       "  background-color: var(--sklearn-color-unfitted-level-2);\n",
       "}\n",
       "\n",
       "#sk-container-id-1 div.sk-label.fitted input.sk-toggleable__control:checked~label.sk-toggleable__label {\n",
       "  background-color: var(--sklearn-color-fitted-level-2);\n",
       "}\n",
       "\n",
       "/* Estimator-specific style */\n",
       "\n",
       "/* Colorize estimator box */\n",
       "#sk-container-id-1 div.sk-estimator input.sk-toggleable__control:checked~label.sk-toggleable__label {\n",
       "  /* unfitted */\n",
       "  background-color: var(--sklearn-color-unfitted-level-2);\n",
       "}\n",
       "\n",
       "#sk-container-id-1 div.sk-estimator.fitted input.sk-toggleable__control:checked~label.sk-toggleable__label {\n",
       "  /* fitted */\n",
       "  background-color: var(--sklearn-color-fitted-level-2);\n",
       "}\n",
       "\n",
       "#sk-container-id-1 div.sk-label label.sk-toggleable__label,\n",
       "#sk-container-id-1 div.sk-label label {\n",
       "  /* The background is the default theme color */\n",
       "  color: var(--sklearn-color-text-on-default-background);\n",
       "}\n",
       "\n",
       "/* On hover, darken the color of the background */\n",
       "#sk-container-id-1 div.sk-label:hover label.sk-toggleable__label {\n",
       "  color: var(--sklearn-color-text);\n",
       "  background-color: var(--sklearn-color-unfitted-level-2);\n",
       "}\n",
       "\n",
       "/* Label box, darken color on hover, fitted */\n",
       "#sk-container-id-1 div.sk-label.fitted:hover label.sk-toggleable__label.fitted {\n",
       "  color: var(--sklearn-color-text);\n",
       "  background-color: var(--sklearn-color-fitted-level-2);\n",
       "}\n",
       "\n",
       "/* Estimator label */\n",
       "\n",
       "#sk-container-id-1 div.sk-label label {\n",
       "  font-family: monospace;\n",
       "  font-weight: bold;\n",
       "  display: inline-block;\n",
       "  line-height: 1.2em;\n",
       "}\n",
       "\n",
       "#sk-container-id-1 div.sk-label-container {\n",
       "  text-align: center;\n",
       "}\n",
       "\n",
       "/* Estimator-specific */\n",
       "#sk-container-id-1 div.sk-estimator {\n",
       "  font-family: monospace;\n",
       "  border: 1px dotted var(--sklearn-color-border-box);\n",
       "  border-radius: 0.25em;\n",
       "  box-sizing: border-box;\n",
       "  margin-bottom: 0.5em;\n",
       "  /* unfitted */\n",
       "  background-color: var(--sklearn-color-unfitted-level-0);\n",
       "}\n",
       "\n",
       "#sk-container-id-1 div.sk-estimator.fitted {\n",
       "  /* fitted */\n",
       "  background-color: var(--sklearn-color-fitted-level-0);\n",
       "}\n",
       "\n",
       "/* on hover */\n",
       "#sk-container-id-1 div.sk-estimator:hover {\n",
       "  /* unfitted */\n",
       "  background-color: var(--sklearn-color-unfitted-level-2);\n",
       "}\n",
       "\n",
       "#sk-container-id-1 div.sk-estimator.fitted:hover {\n",
       "  /* fitted */\n",
       "  background-color: var(--sklearn-color-fitted-level-2);\n",
       "}\n",
       "\n",
       "/* Specification for estimator info (e.g. \"i\" and \"?\") */\n",
       "\n",
       "/* Common style for \"i\" and \"?\" */\n",
       "\n",
       ".sk-estimator-doc-link,\n",
       "a:link.sk-estimator-doc-link,\n",
       "a:visited.sk-estimator-doc-link {\n",
       "  float: right;\n",
       "  font-size: smaller;\n",
       "  line-height: 1em;\n",
       "  font-family: monospace;\n",
       "  background-color: var(--sklearn-color-background);\n",
       "  border-radius: 1em;\n",
       "  height: 1em;\n",
       "  width: 1em;\n",
       "  text-decoration: none !important;\n",
       "  margin-left: 1ex;\n",
       "  /* unfitted */\n",
       "  border: var(--sklearn-color-unfitted-level-1) 1pt solid;\n",
       "  color: var(--sklearn-color-unfitted-level-1);\n",
       "}\n",
       "\n",
       ".sk-estimator-doc-link.fitted,\n",
       "a:link.sk-estimator-doc-link.fitted,\n",
       "a:visited.sk-estimator-doc-link.fitted {\n",
       "  /* fitted */\n",
       "  border: var(--sklearn-color-fitted-level-1) 1pt solid;\n",
       "  color: var(--sklearn-color-fitted-level-1);\n",
       "}\n",
       "\n",
       "/* On hover */\n",
       "div.sk-estimator:hover .sk-estimator-doc-link:hover,\n",
       ".sk-estimator-doc-link:hover,\n",
       "div.sk-label-container:hover .sk-estimator-doc-link:hover,\n",
       ".sk-estimator-doc-link:hover {\n",
       "  /* unfitted */\n",
       "  background-color: var(--sklearn-color-unfitted-level-3);\n",
       "  color: var(--sklearn-color-background);\n",
       "  text-decoration: none;\n",
       "}\n",
       "\n",
       "div.sk-estimator.fitted:hover .sk-estimator-doc-link.fitted:hover,\n",
       ".sk-estimator-doc-link.fitted:hover,\n",
       "div.sk-label-container:hover .sk-estimator-doc-link.fitted:hover,\n",
       ".sk-estimator-doc-link.fitted:hover {\n",
       "  /* fitted */\n",
       "  background-color: var(--sklearn-color-fitted-level-3);\n",
       "  color: var(--sklearn-color-background);\n",
       "  text-decoration: none;\n",
       "}\n",
       "\n",
       "/* Span, style for the box shown on hovering the info icon */\n",
       ".sk-estimator-doc-link span {\n",
       "  display: none;\n",
       "  z-index: 9999;\n",
       "  position: relative;\n",
       "  font-weight: normal;\n",
       "  right: .2ex;\n",
       "  padding: .5ex;\n",
       "  margin: .5ex;\n",
       "  width: min-content;\n",
       "  min-width: 20ex;\n",
       "  max-width: 50ex;\n",
       "  color: var(--sklearn-color-text);\n",
       "  box-shadow: 2pt 2pt 4pt #999;\n",
       "  /* unfitted */\n",
       "  background: var(--sklearn-color-unfitted-level-0);\n",
       "  border: .5pt solid var(--sklearn-color-unfitted-level-3);\n",
       "}\n",
       "\n",
       ".sk-estimator-doc-link.fitted span {\n",
       "  /* fitted */\n",
       "  background: var(--sklearn-color-fitted-level-0);\n",
       "  border: var(--sklearn-color-fitted-level-3);\n",
       "}\n",
       "\n",
       ".sk-estimator-doc-link:hover span {\n",
       "  display: block;\n",
       "}\n",
       "\n",
       "/* \"?\"-specific style due to the `<a>` HTML tag */\n",
       "\n",
       "#sk-container-id-1 a.estimator_doc_link {\n",
       "  float: right;\n",
       "  font-size: 1rem;\n",
       "  line-height: 1em;\n",
       "  font-family: monospace;\n",
       "  background-color: var(--sklearn-color-background);\n",
       "  border-radius: 1rem;\n",
       "  height: 1rem;\n",
       "  width: 1rem;\n",
       "  text-decoration: none;\n",
       "  /* unfitted */\n",
       "  color: var(--sklearn-color-unfitted-level-1);\n",
       "  border: var(--sklearn-color-unfitted-level-1) 1pt solid;\n",
       "}\n",
       "\n",
       "#sk-container-id-1 a.estimator_doc_link.fitted {\n",
       "  /* fitted */\n",
       "  border: var(--sklearn-color-fitted-level-1) 1pt solid;\n",
       "  color: var(--sklearn-color-fitted-level-1);\n",
       "}\n",
       "\n",
       "/* On hover */\n",
       "#sk-container-id-1 a.estimator_doc_link:hover {\n",
       "  /* unfitted */\n",
       "  background-color: var(--sklearn-color-unfitted-level-3);\n",
       "  color: var(--sklearn-color-background);\n",
       "  text-decoration: none;\n",
       "}\n",
       "\n",
       "#sk-container-id-1 a.estimator_doc_link.fitted:hover {\n",
       "  /* fitted */\n",
       "  background-color: var(--sklearn-color-fitted-level-3);\n",
       "}\n",
       "</style><div id=\"sk-container-id-1\" class=\"sk-top-container\"><div class=\"sk-text-repr-fallback\"><pre>ColumnTransformer(remainder=&#x27;passthrough&#x27;,\n",
       "                  transformers=[(&#x27;OneHotEncoder&#x27;, OneHotEncoder(drop=&#x27;first&#x27;),\n",
       "                                 [0, 1, 6]),\n",
       "                                (&#x27;Standerization&#x27;, StandardScaler(),\n",
       "                                 [2, 3, 4, 5, 7])])</pre><b>In a Jupyter environment, please rerun this cell to show the HTML representation or trust the notebook. <br />On GitHub, the HTML representation is unable to render, please try loading this page with nbviewer.org.</b></div><div class=\"sk-container\" hidden><div class=\"sk-item sk-dashed-wrapped\"><div class=\"sk-label-container\"><div class=\"sk-label  sk-toggleable\"><input class=\"sk-toggleable__control sk-hidden--visually\" id=\"sk-estimator-id-1\" type=\"checkbox\" ><label for=\"sk-estimator-id-1\" class=\"sk-toggleable__label  sk-toggleable__label-arrow \">&nbsp;&nbsp;ColumnTransformer<a class=\"sk-estimator-doc-link \" rel=\"noreferrer\" target=\"_blank\" href=\"https://scikit-learn.org/1.5/modules/generated/sklearn.compose.ColumnTransformer.html\">?<span>Documentation for ColumnTransformer</span></a><span class=\"sk-estimator-doc-link \">i<span>Not fitted</span></span></label><div class=\"sk-toggleable__content \"><pre>ColumnTransformer(remainder=&#x27;passthrough&#x27;,\n",
       "                  transformers=[(&#x27;OneHotEncoder&#x27;, OneHotEncoder(drop=&#x27;first&#x27;),\n",
       "                                 [0, 1, 6]),\n",
       "                                (&#x27;Standerization&#x27;, StandardScaler(),\n",
       "                                 [2, 3, 4, 5, 7])])</pre></div> </div></div><div class=\"sk-parallel\"><div class=\"sk-parallel-item\"><div class=\"sk-item\"><div class=\"sk-label-container\"><div class=\"sk-label  sk-toggleable\"><input class=\"sk-toggleable__control sk-hidden--visually\" id=\"sk-estimator-id-2\" type=\"checkbox\" ><label for=\"sk-estimator-id-2\" class=\"sk-toggleable__label  sk-toggleable__label-arrow \">OneHotEncoder</label><div class=\"sk-toggleable__content \"><pre>[0, 1, 6]</pre></div> </div></div><div class=\"sk-serial\"><div class=\"sk-item\"><div class=\"sk-estimator  sk-toggleable\"><input class=\"sk-toggleable__control sk-hidden--visually\" id=\"sk-estimator-id-3\" type=\"checkbox\" ><label for=\"sk-estimator-id-3\" class=\"sk-toggleable__label  sk-toggleable__label-arrow \">&nbsp;OneHotEncoder<a class=\"sk-estimator-doc-link \" rel=\"noreferrer\" target=\"_blank\" href=\"https://scikit-learn.org/1.5/modules/generated/sklearn.preprocessing.OneHotEncoder.html\">?<span>Documentation for OneHotEncoder</span></a></label><div class=\"sk-toggleable__content \"><pre>OneHotEncoder(drop=&#x27;first&#x27;)</pre></div> </div></div></div></div></div><div class=\"sk-parallel-item\"><div class=\"sk-item\"><div class=\"sk-label-container\"><div class=\"sk-label  sk-toggleable\"><input class=\"sk-toggleable__control sk-hidden--visually\" id=\"sk-estimator-id-4\" type=\"checkbox\" ><label for=\"sk-estimator-id-4\" class=\"sk-toggleable__label  sk-toggleable__label-arrow \">Standerization</label><div class=\"sk-toggleable__content \"><pre>[2, 3, 4, 5, 7]</pre></div> </div></div><div class=\"sk-serial\"><div class=\"sk-item\"><div class=\"sk-estimator  sk-toggleable\"><input class=\"sk-toggleable__control sk-hidden--visually\" id=\"sk-estimator-id-5\" type=\"checkbox\" ><label for=\"sk-estimator-id-5\" class=\"sk-toggleable__label  sk-toggleable__label-arrow \">&nbsp;StandardScaler<a class=\"sk-estimator-doc-link \" rel=\"noreferrer\" target=\"_blank\" href=\"https://scikit-learn.org/1.5/modules/generated/sklearn.preprocessing.StandardScaler.html\">?<span>Documentation for StandardScaler</span></a></label><div class=\"sk-toggleable__content \"><pre>StandardScaler()</pre></div> </div></div></div></div></div><div class=\"sk-parallel-item\"><div class=\"sk-item\"><div class=\"sk-label-container\"><div class=\"sk-label  sk-toggleable\"><input class=\"sk-toggleable__control sk-hidden--visually\" id=\"sk-estimator-id-6\" type=\"checkbox\" ><label for=\"sk-estimator-id-6\" class=\"sk-toggleable__label  sk-toggleable__label-arrow \">remainder</label><div class=\"sk-toggleable__content \"><pre></pre></div> </div></div><div class=\"sk-serial\"><div class=\"sk-item\"><div class=\"sk-estimator  sk-toggleable\"><input class=\"sk-toggleable__control sk-hidden--visually\" id=\"sk-estimator-id-7\" type=\"checkbox\" ><label for=\"sk-estimator-id-7\" class=\"sk-toggleable__label  sk-toggleable__label-arrow \">passthrough</label><div class=\"sk-toggleable__content \"><pre>passthrough</pre></div> </div></div></div></div></div></div></div></div></div>"
      ],
      "text/plain": [
       "ColumnTransformer(remainder='passthrough',\n",
       "                  transformers=[('OneHotEncoder', OneHotEncoder(drop='first'),\n",
       "                                 [0, 1, 6]),\n",
       "                                ('Standerization', StandardScaler(),\n",
       "                                 [2, 3, 4, 5, 7])])"
      ]
     },
     "execution_count": 38,
     "metadata": {},
     "output_type": "execute_result"
    }
   ],
   "source": [
    "preprocessing"
   ]
  },
  {
   "cell_type": "code",
   "execution_count": 39,
   "metadata": {
    "executionInfo": {
     "elapsed": 29,
     "status": "ok",
     "timestamp": 1733666825219,
     "user": {
      "displayName": "Aakriti Hardel",
      "userId": "14054904044420853988"
     },
     "user_tz": -330
    },
    "id": "sTfmFLCXCxbj"
   },
   "outputs": [],
   "source": [
    "x_train_dummy = preprocessing.fit_transform(x_train) # Changed preprocesser to preprocessing\n",
    "x_test_dummy = preprocessing.transform(x_test)"
   ]
  },
  {
   "cell_type": "code",
   "execution_count": 40,
   "metadata": {
    "colab": {
     "base_uri": "https://localhost:8080/"
    },
    "executionInfo": {
     "elapsed": 29,
     "status": "ok",
     "timestamp": 1733666825219,
     "user": {
      "displayName": "Aakriti Hardel",
      "userId": "14054904044420853988"
     },
     "user_tz": -330
    },
    "id": "H_vnRHTdDBro",
    "outputId": "129847b3-57f6-45f8-babe-feaca84c7fc3"
   },
   "outputs": [
    {
     "data": {
      "text/plain": [
       "<Compressed Sparse Row sparse matrix of dtype 'float64'\n",
       "\twith 10722 stored elements and shape (1365, 138)>"
      ]
     },
     "execution_count": 40,
     "metadata": {},
     "output_type": "execute_result"
    }
   ],
   "source": [
    "x_train_dummy"
   ]
  },
  {
   "cell_type": "markdown",
   "metadata": {
    "id": "OaPo_kBIAWbG"
   },
   "source": [
    "# **Training model**"
   ]
  },
  {
   "cell_type": "code",
   "execution_count": 41,
   "metadata": {
    "executionInfo": {
     "elapsed": 25,
     "status": "ok",
     "timestamp": 1733666825219,
     "user": {
      "displayName": "Aakriti Hardel",
      "userId": "14054904044420853988"
     },
     "user_tz": -330
    },
    "id": "iqN0iYQpfbAB"
   },
   "outputs": [],
   "source": [
    "from sklearn.linear_model import LinearRegression, Lasso, Ridge\n",
    "from sklearn.neighbors import KNeighborsRegressor\n",
    "from sklearn.tree import DecisionTreeRegressor\n",
    "from sklearn.metrics import r2_score, mean_squared_error\n",
    "\n",
    "models = {\n",
    "    'Lr': LinearRegression(),\n",
    "    'Lasso': Lasso(),\n",
    "    'Ridge': Ridge(),\n",
    "    'KNr': KNeighborsRegressor(),\n",
    "    'dtr': DecisionTreeRegressor()\n",
    "}\n"
   ]
  },
  {
   "cell_type": "code",
   "execution_count": 42,
   "metadata": {
    "colab": {
     "base_uri": "https://localhost:8080/"
    },
    "executionInfo": {
     "elapsed": 659,
     "status": "ok",
     "timestamp": 1733666825854,
     "user": {
      "displayName": "Aakriti Hardel",
      "userId": "14054904044420853988"
     },
     "user_tz": -330
    },
    "id": "_42rtQ29gsL-",
    "outputId": "cdf8e9e5-4e75-4c74-c96b-3bd2ad520aff"
   },
   "outputs": [
    {
     "name": "stdout",
     "output_type": "stream",
     "text": [
      "LrMSE:324004354709.0119 score -22.198235102394605\n"
     ]
    },
    {
     "name": "stderr",
     "output_type": "stream",
     "text": [
      "C:\\Users\\HP\\AppData\\Roaming\\Python\\Python312\\site-packages\\sklearn\\linear_model\\_coordinate_descent.py:658: ConvergenceWarning: Objective did not converge. You might want to increase the number of iterations. Duality gap: 493833213939.7009, tolerance: 2025791939.955833\n",
      "  model = cd_fast.sparse_enet_coordinate_descent(\n"
     ]
    },
    {
     "name": "stdout",
     "output_type": "stream",
     "text": [
      "LassoMSE:267128477962.16333 score -18.126006006544394\n",
      "RidgeMSE:4565831599.726152 score 0.6730931749867506\n",
      "KNrMSE:3300134474.2387137 score 0.763715227001615\n",
      "dtrMSE:1239318603.1871345 score 0.9112666113721626\n"
     ]
    }
   ],
   "source": [
    "for name, model in models.items():\n",
    "    model.fit(x_train_dummy, y_train)\n",
    "    y_pred = model.predict(x_test_dummy)\n",
    "\n",
    "    print(f\"{name}MSE:{mean_squared_error(y_test, y_pred)} score {r2_score(y_test, y_pred)}\")"
   ]
  },
  {
   "cell_type": "markdown",
   "metadata": {
    "id": "rZosAi2IHMuk"
   },
   "source": [
    "# **Select model**\n"
   ]
  },
  {
   "cell_type": "code",
   "execution_count": 43,
   "metadata": {
    "colab": {
     "base_uri": "https://localhost:8080/"
    },
    "executionInfo": {
     "elapsed": 12,
     "status": "ok",
     "timestamp": 1733666825854,
     "user": {
      "displayName": "Aakriti Hardel",
      "userId": "14054904044420853988"
     },
     "user_tz": -330
    },
    "id": "fX_hgJ2NeRup",
    "outputId": "eb558f1c-0e15-41f5-dc91-b4354bb877a3"
   },
   "outputs": [
    {
     "data": {
      "text/plain": [
       "array([2.00000e+00, 5.60000e+01, 5.00000e+00, 1.15063e+05, 4.00000e+00,\n",
       "       1.03000e+02, 9.00000e+00, 7.00000e+00, 1.97200e+05, 2.47280e+04,\n",
       "       3.39000e+02, 8.31780e+04, 1.75300e+03, 3.86920e+04, 8.32000e+02,\n",
       "       5.23000e+04, 1.79140e+04, 1.03000e+02, 6.50000e+01, 2.00000e+01,\n",
       "       2.17900e+03, 5.06510e+04, 3.91000e+02, 1.20000e+01, 4.96120e+04,\n",
       "       1.90000e+01, 1.54400e+05, 1.01670e+04, 3.00000e+00, 1.33000e+02,\n",
       "       6.00000e+00, 1.23000e+02, 2.40000e+03, 2.10000e+01, 4.00000e+00,\n",
       "       2.10000e+01, 2.67600e+03, 5.85694e+05, 5.10000e+01, 7.60000e+01,\n",
       "       1.00000e+00, 3.71922e+05, 4.39090e+04, 1.03260e+04, 1.80000e+01,\n",
       "       1.30000e+01, 1.93970e+04, 4.28500e+03, 3.00000e+00, 1.39254e+05,\n",
       "       4.00000e+00, 3.15340e+04, 2.30000e+01, 2.29000e+04, 1.00000e+00,\n",
       "       8.90100e+05, 5.00000e+00, 1.02832e+05, 3.08000e+05, 2.20230e+04,\n",
       "       1.07190e+05, 5.98094e+05, 1.00000e+00, 1.00000e+00, 2.00000e+00,\n",
       "       3.37300e+03, 4.61320e+05, 5.54710e+04, 2.47910e+04, 1.54000e+03,\n",
       "       1.48000e+05, 1.00000e+00, 2.30000e+01, 3.25000e+04, 1.24140e+04,\n",
       "       1.04849e+05, 1.94900e+05, 2.00000e+00, 8.02900e+03, 1.51660e+04,\n",
       "       1.00000e+00, 3.52620e+04, 7.43000e+03, 1.04849e+05, 1.34970e+04,\n",
       "       4.00000e+00, 1.00000e+00, 4.00000e+00, 1.19400e+03, 4.09000e+02,\n",
       "       7.52000e+02, 3.00000e+00, 2.15170e+04, 3.86090e+04, 2.00000e+00,\n",
       "       3.00000e+00, 2.00000e+00, 3.30000e+05, 1.64250e+04, 7.35100e+03,\n",
       "       1.79140e+04, 6.00000e+00, 2.80000e+02, 3.80000e+01, 5.00000e+00,\n",
       "       1.00000e+02, 1.01000e+05, 5.98094e+05, 6.00000e+00, 5.90000e+01,\n",
       "       4.90000e+04, 1.78540e+04, 2.00000e+03, 5.10000e+01, 3.13500e+03,\n",
       "       5.96400e+03, 1.77200e+03, 2.11400e+03, 2.88030e+05, 1.01620e+04,\n",
       "       3.00000e+00, 1.30000e+01, 1.00000e+00, 3.00000e+00, 2.71470e+04,\n",
       "       8.09200e+03, 1.59270e+05, 1.20000e+01, 2.45000e+03, 8.00000e+04,\n",
       "       4.74000e+02, 1.38400e+03, 1.51660e+04, 3.30000e+05, 6.00000e+00,\n",
       "       4.80000e+01, 1.00000e+00, 4.56160e+04, 7.00000e+03, 1.76000e+02,\n",
       "       3.86090e+04, 1.11500e+03, 1.29210e+04, 3.33000e+03, 1.46340e+04,\n",
       "       2.33820e+04, 8.00000e+00, 5.85694e+05, 2.11400e+05, 3.00000e+03,\n",
       "       4.00000e+00, 1.51660e+04, 4.78600e+03, 1.54105e+05, 1.63838e+05,\n",
       "       2.96100e+05, 4.07900e+03, 3.50000e+01, 7.00000e+00, 1.86000e+02,\n",
       "       3.48630e+04, 1.00000e+00, 5.25000e+04, 1.74000e+02, 4.00000e+00,\n",
       "       6.53980e+04, 1.27000e+03, 1.03776e+05, 1.24140e+04, 3.91000e+02,\n",
       "       3.30000e+05, 1.60000e+01, 2.40000e+01, 1.75300e+03, 1.70000e+01,\n",
       "       5.00000e+00, 1.01910e+04, 5.90000e+01, 4.18900e+05, 1.01000e+05,\n",
       "       2.89630e+04, 2.30000e+01, 1.00000e+00, 1.04880e+04, 2.11070e+05,\n",
       "       7.14400e+03, 1.01000e+05, 1.06000e+05, 9.35100e+03, 2.82110e+04,\n",
       "       1.34000e+04, 3.50000e+03, 4.48170e+04, 1.02770e+04, 1.37000e+05,\n",
       "       4.07860e+04, 2.05800e+03, 2.00000e+00, 2.00000e+00, 2.96500e+03,\n",
       "       2.00000e+00, 1.43134e+05, 3.00000e+00, 8.58740e+04, 4.28030e+04,\n",
       "       3.00000e+00, 3.87350e+04, 8.52820e+04, 2.08400e+05, 8.48840e+04,\n",
       "       1.51660e+04, 3.00000e+00, 3.04176e+05, 4.30000e+01, 3.14700e+04,\n",
       "       8.68000e+04, 5.60000e+03, 1.00000e+00, 4.96120e+04, 6.00000e+00,\n",
       "       3.00000e+01, 1.00000e+02, 1.54000e+04, 1.76900e+05, 4.30000e+01,\n",
       "       2.49000e+02, 1.00000e+00, 1.50000e+04, 9.66000e+02, 4.87770e+04,\n",
       "       4.50700e+03, 1.12000e+02, 3.00000e+03, 1.00000e+02, 4.97480e+04,\n",
       "       7.10870e+04, 1.04849e+05, 1.17640e+04, 3.30000e+05, 2.81000e+03,\n",
       "       2.45800e+03, 2.63990e+04, 1.50000e+01, 1.54000e+03, 2.28000e+05,\n",
       "       5.10000e+01, 3.00000e+00, 3.00000e+00, 8.00000e+00, 6.12000e+02,\n",
       "       1.14520e+04, 1.00000e+02, 4.00000e+00, 1.04880e+04, 1.58800e+03,\n",
       "       1.90000e+01, 2.20230e+04, 2.85700e+04, 1.00000e+00, 1.03260e+04,\n",
       "       4.00000e+00, 5.23000e+04, 1.24500e+05, 1.26100e+04, 4.31800e+03,\n",
       "       1.00000e+00, 6.16220e+05, 2.99600e+05, 1.75920e+04, 3.00000e+00,\n",
       "       8.31780e+04, 6.00000e+00, 1.07190e+05, 1.00000e+01, 5.10000e+01,\n",
       "       2.46000e+03, 1.88000e+02, 1.25100e+04, 1.17000e+02, 3.00000e+00,\n",
       "       2.11400e+03, 8.00000e+00, 2.52900e+03, 8.00000e+00, 1.66800e+03,\n",
       "       4.20000e+02, 3.17050e+04, 8.00000e+00, 4.32910e+04, 1.24500e+05,\n",
       "       1.73460e+04, 1.00000e+00, 2.00000e+00, 6.94140e+04, 6.70000e+02,\n",
       "       4.00000e+00, 1.03260e+04, 1.57980e+04, 2.20230e+04, 3.70580e+04,\n",
       "       3.50000e+01, 2.96500e+03, 5.60800e+03, 1.58800e+03, 1.40000e+01,\n",
       "       1.43000e+04, 5.84210e+04, 1.03000e+05, 3.82540e+04, 1.26230e+04,\n",
       "       3.48500e+03, 3.26000e+02, 3.14700e+04, 2.30000e+01, 2.12700e+04,\n",
       "       7.80000e+01, 2.02000e+03, 5.00000e+00, 3.71922e+05, 8.00000e+00,\n",
       "       1.44030e+04, 1.00000e+01, 3.82540e+04, 1.01670e+04, 6.57994e+05,\n",
       "       7.00000e+00, 1.91300e+05, 5.76600e+04, 1.11500e+03, 5.76600e+04,\n",
       "       6.72480e+04, 2.43230e+04, 4.07900e+03, 6.50000e+01, 3.15930e+04,\n",
       "       1.76000e+05, 1.00000e+01, 1.75920e+04, 8.00000e+04, 1.07310e+04,\n",
       "       4.00000e+00, 6.98000e+02])"
      ]
     },
     "execution_count": 43,
     "metadata": {},
     "output_type": "execute_result"
    }
   ],
   "source": [
    "Dtr = DecisionTreeRegressor()\n",
    "Dtr.fit(x_train_dummy, y_train)\n",
    "Dtr.predict(x_test_dummy)"
   ]
  },
  {
   "cell_type": "markdown",
   "metadata": {
    "id": "8muyJrZ3IFFU"
   },
   "source": [
    "# **predictive system**"
   ]
  },
  {
   "cell_type": "code",
   "execution_count": 44,
   "metadata": {
    "executionInfo": {
     "elapsed": 11,
     "status": "ok",
     "timestamp": 1733666825856,
     "user": {
      "displayName": "Aakriti Hardel",
      "userId": "14054904044420853988"
     },
     "user_tz": -330
    },
    "id": "4hQ_01saIEJw"
   },
   "outputs": [],
   "source": [
    "def prediction(State_Name,District_Name,temperature ,humidity,wind_speed,Rainfall,soil_type,Area):\n",
    "  features =np.array([State_Name,District_Name,temperature,humidity,wind_speed,Rainfall,soil_type,Area])\n",
    "  features = pd.DataFrame([features], columns=['State_Name','District_Name','temperature','humidity','wind_speed','Rainfall','soil_type','Area'])\n",
    "\n",
    "  transformed_feature = preprocessing.transform(features)\n",
    "  predicted_value = Dtr.predict(transformed_feature).reshape(1,-1)\n",
    "  return predicted_value[0][0]"
   ]
  },
  {
   "cell_type": "code",
   "execution_count": 45,
   "metadata": {
    "executionInfo": {
     "elapsed": 10,
     "status": "ok",
     "timestamp": 1733666825856,
     "user": {
      "displayName": "Aakriti Hardel",
      "userId": "14054904044420853988"
     },
     "user_tz": -330
    },
    "id": "oeVgrr_nIW8k"
   },
   "outputs": [],
   "source": [
    "State_Name ='Rajasthan'\n",
    "District_Name ='TONK'\n",
    "temperature =\t26.10\n",
    "humidity =41.19\n",
    "wind_speed =3.55\n",
    "Rainfall =703.0\n",
    "soil_type ='alluvial'\n",
    "Area=255\n",
    "\n",
    "result = prediction(State_Name,District_Name,temperature,humidity,wind_speed,Rainfall,soil_type,Area)\n"
   ]
  },
  {
   "cell_type": "code",
   "execution_count": 46,
   "metadata": {
    "colab": {
     "base_uri": "https://localhost:8080/"
    },
    "executionInfo": {
     "elapsed": 10,
     "status": "ok",
     "timestamp": 1733666825856,
     "user": {
      "displayName": "Aakriti Hardel",
      "userId": "14054904044420853988"
     },
     "user_tz": -330
    },
    "id": "O6j42nB_S2Zu",
    "outputId": "f15c3e78-27f5-43a5-e1f5-1b2077300f04"
   },
   "outputs": [
    {
     "data": {
      "text/plain": [
       "388.0"
      ]
     },
     "execution_count": 46,
     "metadata": {},
     "output_type": "execute_result"
    }
   ],
   "source": [
    "result"
   ]
  },
  {
   "cell_type": "markdown",
   "metadata": {
    "id": "StmZotLbZDk6"
   },
   "source": [
    "# **Pickel**"
   ]
  },
  {
   "cell_type": "code",
   "execution_count": 47,
   "metadata": {
    "executionInfo": {
     "elapsed": 728,
     "status": "ok",
     "timestamp": 1733667101321,
     "user": {
      "displayName": "Aakriti Hardel",
      "userId": "14054904044420853988"
     },
     "user_tz": -330
    },
    "id": "edY91szom1Ng"
   },
   "outputs": [],
   "source": [
    "import pickle\n",
    "pickle.dump(Dtr, open('Dtr.pkl', 'wb'))\n",
    "pickle.dump(preprocessing, open('preprocessor.pkl', 'wb'))"
   ]
  }
 ],
 "metadata": {
  "colab": {
   "authorship_tag": "ABX9TyMlTFUn1ypt8Z2YxhIag/py",
   "provenance": [
    {
     "file_id": "1h-YN9fFMgfbNF2Oc6rD2d50GI0icnmxL",
     "timestamp": 1733080803877
    }
   ]
  },
  "kernelspec": {
   "display_name": "Python 3",
   "language": "python",
   "name": "python3"
  },
  "language_info": {
   "codemirror_mode": {
    "name": "ipython",
    "version": 3
   },
   "file_extension": ".py",
   "mimetype": "text/x-python",
   "name": "python",
   "nbconvert_exporter": "python",
   "pygments_lexer": "ipython3",
   "version": "3.12.3"
  }
 },
 "nbformat": 4,
 "nbformat_minor": 4
}
